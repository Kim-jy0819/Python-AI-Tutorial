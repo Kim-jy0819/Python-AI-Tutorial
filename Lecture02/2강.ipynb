{
  "nbformat": 4,
  "nbformat_minor": 0,
  "metadata": {
    "colab": {
      "provenance": [],
      "authorship_tag": "ABX9TyNGiYy4yxBO207koF6vjnlj",
      "include_colab_link": true
    },
    "kernelspec": {
      "name": "python3",
      "display_name": "Python 3"
    },
    "language_info": {
      "name": "python"
    }
  },
  "cells": [
    {
      "cell_type": "markdown",
      "metadata": {
        "id": "view-in-github",
        "colab_type": "text"
      },
      "source": [
        "<a href=\"https://colab.research.google.com/github/Kim-jy0819/Python-AI-Tutorial/blob/main/Lecture02/2%EA%B0%95.ipynb\" target=\"_parent\"><img src=\"https://colab.research.google.com/assets/colab-badge.svg\" alt=\"Open In Colab\"/></a>"
      ]
    },
    {
      "cell_type": "markdown",
      "metadata": {
        "id": "7I7buJD8P8WA"
      },
      "source": [
        "# Python\n",
        "- 인터프리터 언어 : 코드가 한 줄씩 순차적으로 실행됩니다.\n",
        "\n",
        "<br>\n",
        "※ 컴파일 언어 : 소스 코드를 컴파일하여 기계어로 변환한 후 실행합니다.(C, C++ 등)\n",
        "\n",
        "<br><br>\n",
        "학습할 내용\n",
        "\n",
        "*   변수와 메모리\n",
        "*   형변환\n",
        "*   리스트란?\n",
        "\n",
        "\n",
        "\n",
        "\n",
        "\n",
        "\n",
        "\n"
      ]
    },
    {
      "cell_type": "markdown",
      "metadata": {
        "id": "nuXjwzG9Rm7B"
      },
      "source": [
        "# 변수\n",
        "* 데이터를 저장하기 위한 메모리 공간의 프로그래밍상 이름\n",
        "* 변수 이름 = 값 (값을 저장할 때 '=' 기호를 사용)\n"
      ]
    },
    {
      "cell_type": "code",
      "metadata": {
        "colab": {
          "base_uri": "https://localhost:8080/"
        },
        "id": "1Eo8SNs4P3WZ",
        "outputId": "88df1f48-3d3a-472b-a373-c955609020f1"
      },
      "source": [
        "# 명령어 셀\n",
        "\n",
        "a = 3\n",
        "b = 5\n",
        "a+b"
      ],
      "execution_count": null,
      "outputs": [
        {
          "output_type": "execute_result",
          "data": {
            "text/plain": [
              "8"
            ]
          },
          "metadata": {},
          "execution_count": 1
        }
      ]
    },
    {
      "cell_type": "markdown",
      "metadata": {
        "id": "cVrFDDGnRo_B"
      },
      "source": [
        "## 변수 이름 사용 규칙\n",
        "* 문자, 숫자, '_'만 포함\n",
        "* 문자, '_'로만 시작\n",
        "* 예약어(True, False, and, import, return, while, for 등)와 같은 이름 불가능\n",
        "* 대문자와 소문자 구별\n"
      ]
    },
    {
      "cell_type": "code",
      "metadata": {
        "colab": {
          "base_uri": "https://localhost:8080/"
        },
        "id": "TLdnI2D9RpKX",
        "outputId": "3bd3c9ec-8a9b-4bbf-b82b-8c2518b3b4fe"
      },
      "source": [
        "a = 3\n",
        "a2 = 2\n",
        "a_3 = 4\n",
        "print(a, a2, a_3) # 출력 함수 : print()"
      ],
      "execution_count": null,
      "outputs": [
        {
          "output_type": "stream",
          "name": "stdout",
          "text": [
            "3 2 4\n"
          ]
        }
      ]
    },
    {
      "cell_type": "code",
      "metadata": {
        "colab": {
          "base_uri": "https://localhost:8080/",
          "height": 108
        },
        "id": "I3pbZKziRpVA",
        "outputId": "fdc07130-ab75-4236-9e01-c303a3733f94"
      },
      "source": [
        "3_a = 2\n",
        "3_a"
      ],
      "execution_count": null,
      "outputs": [
        {
          "output_type": "error",
          "ename": "SyntaxError",
          "evalue": "invalid decimal literal (<ipython-input-3-51d3bb1df549>, line 1)",
          "traceback": [
            "\u001b[0;36m  File \u001b[0;32m\"<ipython-input-3-51d3bb1df549>\"\u001b[0;36m, line \u001b[0;32m1\u001b[0m\n\u001b[0;31m    3_a = 2\u001b[0m\n\u001b[0m     ^\u001b[0m\n\u001b[0;31mSyntaxError\u001b[0m\u001b[0;31m:\u001b[0m invalid decimal literal\n"
          ]
        }
      ]
    },
    {
      "cell_type": "code",
      "metadata": {
        "colab": {
          "base_uri": "https://localhost:8080/",
          "height": 108
        },
        "id": "UDhUv2IfRpYn",
        "outputId": "97bba876-0560-4740-cfac-55ee52a73732"
      },
      "source": [
        "while = 3\n",
        "while"
      ],
      "execution_count": null,
      "outputs": [
        {
          "output_type": "error",
          "ename": "SyntaxError",
          "evalue": "invalid syntax (<ipython-input-4-7a08d874e9ec>, line 1)",
          "traceback": [
            "\u001b[0;36m  File \u001b[0;32m\"<ipython-input-4-7a08d874e9ec>\"\u001b[0;36m, line \u001b[0;32m1\u001b[0m\n\u001b[0;31m    while = 3\u001b[0m\n\u001b[0m          ^\u001b[0m\n\u001b[0;31mSyntaxError\u001b[0m\u001b[0;31m:\u001b[0m invalid syntax\n"
          ]
        }
      ]
    },
    {
      "cell_type": "code",
      "metadata": {
        "colab": {
          "base_uri": "https://localhost:8080/"
        },
        "id": "l-2nLt69V_OZ",
        "outputId": "ad5476b1-5518-400f-f14d-f8d4f918661c"
      },
      "source": [
        "b = 1\n",
        "B = 2\n",
        "print(b, B)"
      ],
      "execution_count": null,
      "outputs": [
        {
          "output_type": "stream",
          "name": "stdout",
          "text": [
            "1 2\n"
          ]
        }
      ]
    },
    {
      "cell_type": "markdown",
      "metadata": {
        "id": "AOuK0XGTRpdv"
      },
      "source": [
        "# 생각해보기\n",
        "\n",
        "### ```fruit = 'banana'```의 의미는?\n",
        "\n",
        "\n",
        "\n",
        "1. fruit의 이름은 banana이다.\n",
        "2. fruit는 banana이다.\n",
        "3. fruit와 banana는 같다.\n",
        "4. fruit에 banana를 넣어라\n",
        "\n",
        "\n"
      ]
    },
    {
      "cell_type": "markdown",
      "metadata": {
        "id": "xRQlxXdlRpgD"
      },
      "source": [
        "# 메모리\n",
        "\n",
        "프로그래밍에서 변수는 값을 저장하는 장소입니다. 다음과 같은 수학식 $  x+3 y=5 $ 에서 사용되는 x, y 변수와는 다른 개념입니다.\n",
        "변수는 메모리 주소를 가지고 있고, 변수에 들어가는 값은 메모리 주소에 할당됩니다.\n",
        "\n",
        "\n",
        "![image.png](data:image/png;base64,iVBORw0KGgoAAAANSUhEUgAAAYMAAACRCAYAAAAhDdQ2AAAQZUlEQVR4Ae2dMcgl1RXHX2FhsYWFxRYWFhYWFltswMLiK7YwsIUQhC1MSCFiIUQMJF+xxBUJBjdBUMImRDBEcAOSCGqwMMkS1KxmhVUMLESCIRsQYrEhQiy2uOH/3p55d97OvDd3Zu6bO/f+Lrxv3sybuXPu75x7/nNnvplZHByccXxgQAwQA8RA2TGwUAD8yzk+MCAGiAFioNAYkA5UYuAoEIAABCBQHAENBhCD4txOgyEAAQjUCSAGdR7MQQACECiSAGJQpNtpNAQgAIE6AcSgzoM5CEAAAkUSQAyKdDuNhgAEIFAngBjUeTAHAQhAoEgCiEGRbqfREIAABOoEEIM6D+YgAAEIFEkAMSjS7TQaAhCAQJ0AYlDnwRwEIACBIgkgBkW6nUZDAAIQqBNADOo8mIMABCBQJAHEoEi302gIQAACdQKIQZ0HcxCAAASKJIAYFOl2Gg0BCECgTgAxqPNgDgIQgECRBBCDIt1OoyEAAQjUCSAGdR7MQQACECiSAGJQpNtpNAQgAIE6gahisFgsHB8YEAPEADEwXgzUU/h4c9HFwP33Q5faR4GZmk2yB7vCYiVFXinaRGyFxVXKvJZ5a7z8X6sJMUhIrEgkYZ02RV4p2pRycoNXWMwjBiMnbAIwLADh1Z0XrLqzQqTCWC2FQLkwUmFkMLLQVA7rUS+JJKxzpMgrRZtIumFxlTKvZX5BDMId2paY6bBhLOHVnResurNKOemm6kfEoMdRdpsQEIBhnRVeYbxSTSLYlYcfEQPEYNL/fiKRdE8ksOrOigONMFZLIVAujFS4ZjCy0FQO61EviSSsc6TIK0WbSLphcZUyr2V+QQzCHdqWmOmwYSzh1Z0XrLqzSjnppupHxKDHUXabEBCAYZ0VXmG8Uk0i2JWHHxEDxIBrBg0xkGKCS9EmBD1MCFLmhRg0JIIllJ7L6bBhnQNe3XnBqjurlJNuqn5EDHom/TbBSNXR2DX/RIIP5+/DlEUKMUAMOE3UEAMpJt4UbUo5ucErTDwRg4ZEsITSczkBGBaA8OrOC1bdWSFSYayqnMe/lvYE1yAYdNgwlvDqzgtW3VkhBmGsEIOGZF5B6fkbHTYsCOHVnResurNCDMJYVXmPkUFPcA2CQYcNYwmv7rxg1Z0VYhDGCjFoSOYVlJ6/0WHDghBe3XnBqjsrxCCMVZX3GBn0BNcgGHTYMJbw6s4LVt1ZIQZhrBCDhmReQen5Gx02LAjh1Z0XrLqzQgzCWFV5j5FBT3ANgkGHDWMJr+68YNWdVW5i8Mizf3YnnnjXvfjb96v7gl753fvu5Pffcw/+4F13+eO/VMsPf7paV9MqyTfkqsbfEIOwIGuEeAM2HTaMJby684JVd1Y5icHrf/hgKQQSA4mC5R8TCC1/9lcXq+Wat4+t23mKGIQF2TawdNgwlvDqzgtW3Vmpj+bEyxI/I4MGtcrJ0dvEZazf4DX/RIIP5+/DlEVqmWsacu0Yi3jTWdfzdHtYj0Qy/0SCD+fvQ8Tg4IyTMoxZ6Bh0jLFGTU31pBhfKdqUcnKDV1iOWPaDMZO0Vxcjgz0c8TclsqZldIywjpEirxRtQgzC4iplXsu84SXwMb8iBohB9R8OTQKVcsdIMfGmaBM+RAy6iAZigBggBiPGAGIQlnjhFcaLkcGInZWjpPDgo8N2Zwar7qzoi2GslkKgXBipRB8ZqHPwmQ+D+xYL9/Ri4S4sFu6zxcK5G1PNn10snH7HnzAgBqaLgUhasPwHooODM26hP1IGSqEEXnvNubvuWiZ/CcDWj9Y7f75QUDQbAnkSiDoyyBNZZq368kvn7r9/nfzvvNO5w0Pn3nrLuc8+WzVW0wsXnDt9ui4YBwfOffFFZkBoDgTKJIAYlOn3Vas//9y548dXQnD77c6dO+fc9eu7ibz0knNHj662u/tu51QPBQIQmDUBxGDW7htgvEYEJgRK6J9+GlaZBODYsbUgqD4KBCAwWwKIwWxdN9DwU6dWiVzn//se2UsATBB0qokCAQjMlgBiMFvXDTBc5/91kfjIEec++WRARW51XUGnmFSfLkJTIACBWRKIKgZX/vmR+8ZTX6s+3/vFtyaH9PBPvl7ZM7UxP3vzmcoWcZJteym68Kvk/eSTrbvbtE3zreW551b1aZSwp+LH1lbbItvz6p9erPnQ4n1vvuzQvj9+9MZNNnbYbNRVNuPJONn0R7/+7qj7o7JwAtHEoCkA5fipBEH7tcCzaTiu8bZQ8Jsd/jR6EtG1ARsVXLvW2KC2BNfaYb/6an1B+dKlxjrHXuj7EzFop9uWhNu3iPNLmx0W+1P6ME6L51drNDGwzmoJxBcHfd938e2xANy3Df7+xMXvAHvj88ILKzF46CHfnNp3iYFvmwnXVqF69NFVvU8/XasrxowlFvOpb2uM/W2r04TT4nzbuvv+zY8p2ZliSaEvpshlCpuiiIE/hNd3Kyl0Xr+DmF2pTJVs1TmidtyTJ1dJ++WXOzfbmG0VA92XoBFH5AvJFltKviZSiEGzK1Pob82WrZamLKTb7M71tyhi0JY8rPNOeRRltinpplZMDHwBHd1G+++fgAvHllS2+k03pkkM9N9JEYsYmShZPKUgBnaEq+lWThHZbFZtNpmA2rz6QArF4j0Ve1JgMqUNUcTAFN86rTXQhvdTdpZUxcDYKPFGLbfdtkraLdcLbN+WaC2B7PSZrhvYtQirZOSpMbLkYTamJgZiFt2PO9iaAJh4mh9tagx3VBPtZ+uHmzki2g6peCcBxGAnovgrmHiqo0YvJgY7bhKzRGvJQ9OtCSSyGFjy8BO/2egvi85vxw5MsMQr6ghvhx0mBrLD52NH4zvFfUf9Q3+20aZv29A62X4Ygb2KgXXeKQPRkoo6SQrFF4K9JI977lkdwV+50rn5nWy000R6tlGEYslDfmv6pHSEaQl3q3hGYORX6YuBv9zEasqRS5ttvp183z+BKGLgO9tPcNahlVymKimJgZ9k98bDLiC/+mrQLncmuLffXonMiRNB9XZd2WKnSQi0DDG4maSx8vtgCmKQwkHhzbRYEkUMhNWSh40C/CTsB+e+XeDbse99+/uzTrn3JHb27Cppf/vbvjm177LJ95EvWq1Hu48/vqp3y41stZ2MMGNJZcpTDbLBZ2I2KRFPXUxArQ/KHhOIqZgprswGn9vUrNi/c9HEwE8g5nxN/cDcpwP8Turbo+/77hh+h9i0RfNRO4lOD+lCrx4hofP8DcWEfNO21lML/k1nFy821Bhnkfl03/7zW2M2bLKa0iazry3O9n4AYgY5t+xrYjWlDZ45fPUIRBMD7WNTEKbsIG2dVoG5b7vaOqkllKhiIMfYv5fqMRItZVMQtjKa4HEUMtt8utW2lvaNudiOwPfmvwDjN2OtVdAD6uy7qm/L1D7r24act4sqBjmDm3Xb9EA5Gx2EPrp6s+F64ikPqtukwjwEZkcAMZidy0Yy2N5upv8u2vFvpq171Hb33rsSFj38jgIBCMyWAGIwW9cNNFyJXC+10QhBp41C32mg113ed99qe911zOsvBzqEzSEwLQHEYFr+0+796tW1IOj+gK4vude/pWp9CYmmAfcsTNtg9g4BCLQRQAzayJSyXEf09n4DGyXoyaN6dpGNFjTV/DPPrE8L2bq2Tim8aCcEMiWAGGTq2OBm6SX3d9yxOtpXot/2OXrUuXPnnLt+PXg3bAABCKRJADFI0y/TWKXkrjuJH37YuePH1+IgkdC8lr/xRuv9CdMYzV4hAIExCCAGY1CkDghAAAIzJ4AYzNyBo5mvUcHQew5GM4aKIACBfRNADPZNPMX9vfOOc7rfQNcBKBCAQJEEEIMi3X6j0fpPIl0HsIvFujOZAgEIFEkAMSjR7TolpFGAvejGxEAjBAoEIFAkAcSgNLdfurT6zyATAH+qF9RQIACBIgkgBiW5Xe8cuOWW9WkhXwj0veWR1iUhoq0QKJUAYlCS5/XfQnoT2aYIaF6njCgQgECxBBCDEl1vTyz1RUEPm6NAAALFEkAMSnP95cvNp4p4BHVpkUB7IVAjgBjUcGQ+o/8i0mMlbETwwAOrx09oVHDqVOaNp3kQgMA2AojBNjq5/Wavp5QYHDninB5hraILxxcu5NZa2gMBCAQQQAwCYM16VSV+CYCNCra8/3jW7cR4CECgFwHEoBe2GW6kU0ImBDpVpFNGFAhAAAI3CCAGJYSCHjNhQqD7DHTjGQUCEICARwAx8GBk+VXvOvZfWqMbzygQgAAENgggBhtAspt97LH1qECiIHGgQAACENgggBhsAMlq9uLF+j0FPJU0K/fSGAiMSQAxGJNmSnXpAvGxY+tRgS4gUyAAAQi0EEAMWsDMfvHZs2sh8O8pmH3DaAAEIBCDAGIQg+rUdepR1NxTMLUX2D8EZkUAMZiVuzoae/LkelTAPQUdobEaBMomgBjk5v/z59dCwD0FuXmX9kAgGgHEIBraCSq+ds25o0fXYsA9BRM4gV1CYJ4EEIN5+q3Z6sPDtRBwT0EzI5ZCAAKNBBCDRiwzXainj54+7dyttzrHPQUzdSJmQ2AaAojBNNzj7tUeTR13L9QOAQhkRAAxyMiZNAUCEIBAXwKIQV9ybAcBCEAgIwKIQUbOpCkQgAAE+hJADPqSYzsIQAACGRFADDJyJk2BAAQg0JcAYtCXHNtBAAIQyIgAYpCQM0888a4L/SRkPqZAAAIzJoAYJOS8UCHQ+l3L6+99XgmNvlMgAAEI+AQQA59GYt8vf/qfKoGfPLzorv77f70tRAx6o2NDCBRBADFI1M1K/N/84YdLMXjwyQ+W08Of/7W3tS+++Y9KWPSdAgEIQMAngBj4NBL5fuHyF5UQSBA0QjBh+M7zH/caIZig6NSSvg8ZZSSCCTMgAIERCSAGI8IcUpUS/iu/v+qU7O3awSM/vlwlbX+koFNGz57/21IkuuxTIwrVqe300fcho4wu+2QdCEBgXgQQgwT8pURvSdqStpJ9U9FyEwtNNWJoO8rXcl9cJDb62PZ9RxlNdrEMAhCYNwHEIBH/KUnr9M1Tv7yy84hfowitp/W13WbR7xINExhN/fV0Mdn/LWSUsbkv5iEAgTwIIAZ5+LFqxfO/+Xt15K8RgE41SRw2i5b5owatq20pEIBAmQQQgwT8roRtp276TLW9X3TqSIm+y/0EWkfrahsKBCBQLgHEIAHfjy0GTU3iPoMmKiyDAASMAGJgJBKdmlBsHv2HmosYhBJjfQiURQAxSNzfiEHiDsI8CGRCADFI3JGIQeIOwjwIZEIAMUjckSFi4J8K6nMhWtuoDgoEIFAeAcQgcZ8jBok7CPMgkAkBxCBxR4aIQeJNwTwIQCBhAohBws6RaYhB4g7CPAhkQgAxyMSRNAMCEIDAEAKIwRB6bAsBCEAgEwKIQSaOpBkQgAAEhhBADIbQY1sIQAACmRBADDJxJM2AAAQgMIQAYjCEHttCAAIQyIQAYpCJI2kGBCAAgSEEEIMh9NgWAhCAQCYEEINMHEkzIAABCAwhgBgMoce2EIAABDIhgBhk4kiaAQEIQGAIAcRgCD22hQAEIJAJgZvEQAv4wIAYIAaIgfJi4ODgjFvoDx8YEAPEADFQdgz8H0mKXV1VK//pAAAAAElFTkSuQmCC)\n",
        "\n",
        "변수는 프로그램에서 사용하기 위한 특정한 값을 저장하는 공간으로 선언되는 순간 메모리 특정 영역에 물리적인 공간이 할당됩니다. a=1은 a는 1과 같다는 의미가 아니고 a라는 이름을 가진 메모리 주소에 1을 할당하라는 의미입니다."
      ]
    },
    {
      "cell_type": "markdown",
      "metadata": {
        "id": "wHt6zAyRRplG"
      },
      "source": [
        "# 파이썬의 간단한 연산\n",
        "1. 기본 자료형\n",
        "2. 연산자\n",
        "3. 데이터 형변환\n",
        "\n"
      ]
    },
    {
      "cell_type": "markdown",
      "metadata": {
        "id": "insz8DQGRpp0"
      },
      "source": [
        "## 기본 자료형\n",
        "* 수치자료형 : 정수형(integer), 실수형(float)      \n",
        "```\n",
        "정수형 : 1, -5, 100, 9999\n",
        "실수형 : 1.3, -3.8, 88.9\n",
        "```\n",
        "* 문자형 : 문자형(string)\n",
        "```\n",
        "문자형 : 'abcd', 'hello, python3.10!', '코딩은 즐거워~' # 따옴표 안에 들어있는 문자\n",
        "```\n",
        "* 논리/boolean 자료형\n",
        "```\n",
        "불린형 : True, False\n",
        "```"
      ]
    },
    {
      "cell_type": "code",
      "metadata": {
        "colab": {
          "base_uri": "https://localhost:8080/"
        },
        "id": "JSuIT1GxRql0",
        "outputId": "2c96cd0f-2f17-4742-f04c-9c748682f32e"
      },
      "source": [
        "a = 1 # Integer\n",
        "b = 1 # Integer\n",
        "print (a, b)"
      ],
      "execution_count": null,
      "outputs": [
        {
          "output_type": "stream",
          "name": "stdout",
          "text": [
            "1 1\n"
          ]
        }
      ]
    },
    {
      "cell_type": "code",
      "metadata": {
        "colab": {
          "base_uri": "https://localhost:8080/"
        },
        "id": "adcT7OSlcvjq",
        "outputId": "f91219da-84b3-4332-a415-44fba952df8f"
      },
      "source": [
        "a = 1.5 # Float\n",
        "b = 3.5 # Float\n",
        "print (a, b)"
      ],
      "execution_count": null,
      "outputs": [
        {
          "output_type": "stream",
          "name": "stdout",
          "text": [
            "1.5 3.5\n"
          ]
        }
      ]
    },
    {
      "cell_type": "code",
      "metadata": {
        "colab": {
          "base_uri": "https://localhost:8080/"
        },
        "id": "I-uIDDIedZdI",
        "outputId": "ccabfad5-e9c4-478c-a44c-07848138e139"
      },
      "source": [
        "a = \"ABC\" # String\n",
        "b = \"101010\" # String\n",
        "c = '♥'\n",
        "print (a, b, c)"
      ],
      "execution_count": null,
      "outputs": [
        {
          "output_type": "stream",
          "name": "stdout",
          "text": [
            "ABC 101010 ♥\n"
          ]
        }
      ]
    },
    {
      "cell_type": "code",
      "metadata": {
        "colab": {
          "base_uri": "https://localhost:8080/"
        },
        "id": "_3wi1aMUdciH",
        "outputId": "64cbd263-6d2c-40f8-8d99-6b897efaef56"
      },
      "source": [
        "a = True # Boolean 대소문자 구분\n",
        "b = False # Boolean 대소문자 구분\n",
        "print (a, b)"
      ],
      "execution_count": null,
      "outputs": [
        {
          "output_type": "stream",
          "name": "stdout",
          "text": [
            "True False\n"
          ]
        }
      ]
    },
    {
      "cell_type": "markdown",
      "metadata": {
        "id": "tUu2KBYPRqff"
      },
      "source": [
        "## 연산자\n",
        "\n",
        "### +, -, \\*, /, \\*\\*, //, %\n",
        "위에 있는 기호들을 연산자라고 합니다. 앞에 있는 4개의 연산자는 사칙연산으로 알려져 있는 연산자입니다. 뒤에 있는 기호들이 어떤 것인지 알아보겠습니다.\n",
        "\n",
        "```\n",
        "**: 제곱\n",
        "//: 몫\n",
        "% : 나머지\n",
        "```\n",
        "\n"
      ]
    },
    {
      "cell_type": "code",
      "metadata": {
        "colab": {
          "base_uri": "https://localhost:8080/"
        },
        "id": "NmXL0Dq0eOgu",
        "outputId": "a543dcd3-837b-4f00-e865-79a0d6b1b80c"
      },
      "source": [
        "print (3 * 3 * 3 * 3 * 3) # 3을 다섯 번 곱함\n",
        "print (3 ** 5) # 3의 5승"
      ],
      "execution_count": null,
      "outputs": [
        {
          "output_type": "stream",
          "name": "stdout",
          "text": [
            "243\n",
            "243\n"
          ]
        }
      ]
    },
    {
      "cell_type": "code",
      "metadata": {
        "colab": {
          "base_uri": "https://localhost:8080/"
        },
        "id": "PtvEITcwRqbH",
        "outputId": "bc2d801f-a93d-4b83-dea9-0728fc95be4a"
      },
      "source": [
        "print (7 / 2)  # 7 나누기 2\n",
        "print (7 // 2) # 7 나누기 2 몫\n",
        "print (7 % 2)  # 7 나누기 2의 나머지는"
      ],
      "execution_count": null,
      "outputs": [
        {
          "output_type": "stream",
          "name": "stdout",
          "text": [
            "3.5\n",
            "3\n",
            "1\n"
          ]
        }
      ]
    },
    {
      "cell_type": "markdown",
      "metadata": {
        "id": "fwWr2NDPRqVh"
      },
      "source": [
        "### 증가 또는 감소 연산\n",
        "* a = a + 1은 a += 1 로 증가연산을 써서 간단하게 표현할 수 있다.\n",
        "* a = a - 1은 a -= 1 로 감소연산을 써서 간단하게 표현할 수 있다."
      ]
    },
    {
      "cell_type": "code",
      "metadata": {
        "colab": {
          "base_uri": "https://localhost:8080/"
        },
        "id": "3dDq-dZGRqJd",
        "outputId": "946f514e-57cf-4a64-f8d9-61a0fbd51432"
      },
      "source": [
        "a = 1     # 변수 a 에 1을 할당\n",
        "a = a + 1 # a 에 1를 더한 후 그 값을 a에 할당\n",
        "print (a) # a 출력\n"
      ],
      "execution_count": null,
      "outputs": [
        {
          "output_type": "stream",
          "name": "stdout",
          "text": [
            "2\n"
          ]
        }
      ]
    },
    {
      "cell_type": "code",
      "metadata": {
        "colab": {
          "base_uri": "https://localhost:8080/"
        },
        "id": "iUFIW8EjgcNQ",
        "outputId": "fb6c92bf-8bc9-4b39-eef7-2337c06091f7"
      },
      "source": [
        "a += 1    # a 증가 연산\n",
        "print (a) # a 출력\n"
      ],
      "execution_count": null,
      "outputs": [
        {
          "output_type": "stream",
          "name": "stdout",
          "text": [
            "3\n"
          ]
        }
      ]
    },
    {
      "cell_type": "code",
      "metadata": {
        "colab": {
          "base_uri": "https://localhost:8080/"
        },
        "id": "oVb1_05rgdfN",
        "outputId": "5d8383d2-3425-4e41-ca74-d44038fc6d11"
      },
      "source": [
        "a = a - 1  # a 에 1를 뺀 후 그 값을 a에 할당\n",
        "a -= 1     # a 감소 연산\n",
        "print(a)  # a 출력"
      ],
      "execution_count": null,
      "outputs": [
        {
          "output_type": "stream",
          "name": "stdout",
          "text": [
            "1\n"
          ]
        }
      ]
    },
    {
      "cell_type": "markdown",
      "metadata": {
        "id": "2eaj8MpbRqG7"
      },
      "source": [
        "## 데이터 형 변환 : 정수형 <-> 실수형\n",
        "### int(), float()를 사용하여 형변환이 가능하다."
      ]
    },
    {
      "cell_type": "code",
      "metadata": {
        "colab": {
          "base_uri": "https://localhost:8080/"
        },
        "id": "wvl4FkoyRqEJ",
        "outputId": "3df6f391-d3f9-4a29-80e3-cb3524f356b9"
      },
      "source": [
        "a = 10 # a 변수에 정수 데이터 10을 할당\n",
        "print (a) # a가 정수형으로 출력\n"
      ],
      "execution_count": null,
      "outputs": [
        {
          "output_type": "stream",
          "name": "stdout",
          "text": [
            "10\n"
          ]
        }
      ]
    },
    {
      "cell_type": "code",
      "metadata": {
        "colab": {
          "base_uri": "https://localhost:8080/"
        },
        "id": "0TDNfzBdhELn",
        "outputId": "7c4c7b67-29cb-4e88-faf0-1b392262fa42"
      },
      "source": [
        "a = float(a) # a를 실수형으로 변환 / 정수형은 int()\n",
        "print (a)     # a가 실수형으로 출력됨\n"
      ],
      "execution_count": null,
      "outputs": [
        {
          "output_type": "stream",
          "name": "stdout",
          "text": [
            "10.0\n"
          ]
        }
      ]
    },
    {
      "cell_type": "code",
      "metadata": {
        "colab": {
          "base_uri": "https://localhost:8080/"
        },
        "id": "4jvCybvehH4z",
        "outputId": "76769bac-907e-455d-b345-2e43bd9a0eac"
      },
      "source": [
        "b = 3 # b 에 정수 데이터 3 할당\n",
        "print (a / b) # 실수형으로 a 나누기 b를 출력, 실수형 결과값 출력"
      ],
      "execution_count": null,
      "outputs": [
        {
          "output_type": "stream",
          "name": "stdout",
          "text": [
            "3.3333333333333335\n"
          ]
        }
      ]
    },
    {
      "cell_type": "markdown",
      "metadata": {
        "id": "ZCJrMEIBRqBt"
      },
      "source": [
        "# 생각해보기\n",
        "\n",
        "### 1.5와 1.7을 정수형으로 변환한 후 뺄셈하면 어떤 결과가 나올까요?"
      ]
    },
    {
      "cell_type": "code",
      "metadata": {
        "id": "1ZcfLH3VRp87",
        "colab": {
          "base_uri": "https://localhost:8080/"
        },
        "outputId": "d3e7d377-3f2a-4300-ed85-b9f003069047"
      },
      "source": [
        "# 이곳에 답안을 작성해보세요!\n"
      ],
      "execution_count": null,
      "outputs": [
        {
          "output_type": "execute_result",
          "data": {
            "text/plain": [
              "0"
            ]
          },
          "metadata": {},
          "execution_count": 21
        }
      ]
    },
    {
      "cell_type": "markdown",
      "metadata": {
        "id": "pb7F1cJtRp48"
      },
      "source": [
        "## 데이터 형 변환 : 숫자 <-> 문자열\n",
        "### str(), int(), float()를 사용하여 형변환이 가능하다."
      ]
    },
    {
      "cell_type": "code",
      "metadata": {
        "colab": {
          "base_uri": "https://localhost:8080/"
        },
        "id": "HdXhULfhRptv",
        "outputId": "fac382ef-2b83-41ca-d32b-0e37efc5718a"
      },
      "source": [
        "a = '76.3'   # a에 문자열 76.3을 할당, ''은 문자열을 의미\n",
        "b = float(a) # a를 실수형으로 형 변환 후 b에 할당\n",
        "print (a)    # a값 출력"
      ],
      "execution_count": null,
      "outputs": [
        {
          "output_type": "stream",
          "name": "stdout",
          "text": [
            "76.3\n"
          ]
        }
      ]
    },
    {
      "cell_type": "code",
      "metadata": {
        "colab": {
          "base_uri": "https://localhost:8080/",
          "height": 180
        },
        "id": "UR3YMVhii8ME",
        "outputId": "9a229b3f-577e-4ab3-a38b-c649b9e6b0f5"
      },
      "source": [
        "print (b)     # b 값 출력\n",
        "print (a + b) # a와 b를 더함 그러나 문자열과 숫자열의"
      ],
      "execution_count": null,
      "outputs": [
        {
          "output_type": "stream",
          "name": "stdout",
          "text": [
            "76.3\n"
          ]
        },
        {
          "output_type": "error",
          "ename": "TypeError",
          "evalue": "can only concatenate str (not \"float\") to str",
          "traceback": [
            "\u001b[0;31m---------------------------------------------------------------------------\u001b[0m",
            "\u001b[0;31mTypeError\u001b[0m                                 Traceback (most recent call last)",
            "\u001b[0;32m<ipython-input-23-8cf1929cb652>\u001b[0m in \u001b[0;36m<cell line: 2>\u001b[0;34m()\u001b[0m\n\u001b[1;32m      1\u001b[0m \u001b[0mprint\u001b[0m \u001b[0;34m(\u001b[0m\u001b[0mb\u001b[0m\u001b[0;34m)\u001b[0m     \u001b[0;31m# b 값 출력\u001b[0m\u001b[0;34m\u001b[0m\u001b[0;34m\u001b[0m\u001b[0m\n\u001b[0;32m----> 2\u001b[0;31m \u001b[0mprint\u001b[0m \u001b[0;34m(\u001b[0m\u001b[0ma\u001b[0m \u001b[0;34m+\u001b[0m \u001b[0mb\u001b[0m\u001b[0;34m)\u001b[0m \u001b[0;31m# a와 b를 더함 그러나 문자열과 숫자열의\u001b[0m\u001b[0;34m\u001b[0m\u001b[0;34m\u001b[0m\u001b[0m\n\u001b[0m",
            "\u001b[0;31mTypeError\u001b[0m: can only concatenate str (not \"float\") to str"
          ]
        }
      ]
    },
    {
      "cell_type": "markdown",
      "metadata": {
        "id": "bfCRD0apRkOM"
      },
      "source": [
        "### 데이터의 형을 맞춰야 연산을 할 수 있다!\n",
        "* 문자열은 문자열끼리\n",
        "* 숫자는 숫자끼리!"
      ]
    },
    {
      "cell_type": "code",
      "metadata": {
        "colab": {
          "base_uri": "https://localhost:8080/"
        },
        "id": "skcNR0GNP0KP",
        "outputId": "2e109db7-80cc-4074-e9e2-1059fc58476a"
      },
      "source": [
        "a = float(a)  # a를 실수형으로 형 변환 후 a에 할당\n",
        "b = a         # 실수형 a 값을 b에 할당\n",
        "print (a + b) # 두 실수형 더한 후 출력"
      ],
      "execution_count": null,
      "outputs": [
        {
          "output_type": "stream",
          "name": "stdout",
          "text": [
            "152.6\n"
          ]
        }
      ]
    },
    {
      "cell_type": "code",
      "metadata": {
        "colab": {
          "base_uri": "https://localhost:8080/"
        },
        "id": "XV9d1f3ejmAq",
        "outputId": "97492459-6646-4765-f089-13f12de5da48"
      },
      "source": [
        "a = str(a)    # 실수형 a 값 문자열로 변환 후 a 할당\n",
        "b = str(b)    # 실수형 b 값을 문자열로 변환 후 b 할당\n",
        "print (a + b) # 두 값을 더한 후 출력\n",
        "              # 문자열간 덧셈은 문자열간 단순 연결"
      ],
      "execution_count": null,
      "outputs": [
        {
          "output_type": "stream",
          "name": "stdout",
          "text": [
            "76.376.3\n"
          ]
        }
      ]
    },
    {
      "cell_type": "code",
      "metadata": {
        "colab": {
          "base_uri": "https://localhost:8080/"
        },
        "id": "-uETuJ2WRiJL",
        "outputId": "497b5539-0dea-4eab-f7e4-1759d02ac841"
      },
      "source": [
        "a=int(10.3) # a는 정수형으로 10.3을 할당\n",
        "b=float(10.3) # b는 실수형으로 10.3을 할당\n",
        "c=str(10.3) # c는 문자열으로 10.3을 할당\n",
        "type(a) # a의 타입을 출력\n"
      ],
      "execution_count": null,
      "outputs": [
        {
          "output_type": "execute_result",
          "data": {
            "text/plain": [
              "int"
            ]
          },
          "metadata": {},
          "execution_count": 26
        }
      ]
    },
    {
      "cell_type": "code",
      "metadata": {
        "colab": {
          "base_uri": "https://localhost:8080/"
        },
        "id": "VZ5np8knj7D9",
        "outputId": "7a2af098-7503-41b9-9cdb-fe8606713bde"
      },
      "source": [
        "type(b) # b의 타입을 출력\n"
      ],
      "execution_count": null,
      "outputs": [
        {
          "output_type": "execute_result",
          "data": {
            "text/plain": [
              "float"
            ]
          },
          "metadata": {},
          "execution_count": 27
        }
      ]
    },
    {
      "cell_type": "code",
      "metadata": {
        "colab": {
          "base_uri": "https://localhost:8080/"
        },
        "id": "GYSFsKUEj-Qn",
        "outputId": "1e59b33e-0117-41fe-d26d-768193e3dcd5"
      },
      "source": [
        "type(c) # c의 타입을 출력"
      ],
      "execution_count": null,
      "outputs": [
        {
          "output_type": "execute_result",
          "data": {
            "text/plain": [
              "str"
            ]
          },
          "metadata": {},
          "execution_count": 28
        }
      ]
    },
    {
      "cell_type": "markdown",
      "metadata": {
        "id": "MvA17bqkP00w"
      },
      "source": [
        "### [생각해보기] 데이터의 개수가 100개가 있다면 변수를 100개를 선언해야 할까?"
      ]
    },
    {
      "cell_type": "markdown",
      "metadata": {
        "id": "40uB5G5ckiXc"
      },
      "source": [
        "# 리스트란(list)?\n",
        "* 순서가 있는 요소들의 집합\n",
        "* 요소들을 수정, 삭제, 추가 가능\n",
        "* 대괄호([]) 안에 요소들을 ','로 구분하여 저장\n",
        "* int, float 같은 다양한 데이터 타입 포함"
      ]
    },
    {
      "cell_type": "markdown",
      "metadata": {
        "id": "VCR7Z0TAf_IY"
      },
      "source": [
        "### 인덱싱(indexing) : 해당 위치의 데이터를 추출"
      ]
    },
    {
      "cell_type": "code",
      "metadata": {
        "id": "eGtQNNGmk5rL",
        "colab": {
          "base_uri": "https://localhost:8080/"
        },
        "outputId": "d4099628-1975-4445-c50c-def9fe988987"
      },
      "source": [
        "colors = ['red', 'blue', 'green']\n",
        "print (colors[0]) # red\n",
        "print (colors[2]) # green\n",
        "print (len(colors)) # 3\n",
        "# len은 list의 길이를 반환"
      ],
      "execution_count": null,
      "outputs": [
        {
          "output_type": "stream",
          "name": "stdout",
          "text": [
            "red\n",
            "green\n",
            "3\n"
          ]
        }
      ]
    },
    {
      "cell_type": "markdown",
      "metadata": {
        "id": "NUDB4VgMf8qN"
      },
      "source": [
        "### 슬라이싱(slicing) : 해당 구간의 데이터를 추출"
      ]
    },
    {
      "cell_type": "code",
      "metadata": {
        "id": "3DRwno7dk5zy",
        "colab": {
          "base_uri": "https://localhost:8080/"
        },
        "outputId": "726dda33-cd2e-4c1d-e298-d4601fa88816"
      },
      "source": [
        "cities = ['서울', '부산', '인천', '대구', '대전', '광주', '울산', '수원']\n",
        "print (cities[0:6], \" AND \", cities[-2:]) # a 변수의 0부터 5까지, -8부터 끝까지\n",
        "print (cities[:]) # a변수의 처음부터 끝까지\n",
        "print (cities[-50:50]) # 범위를 넘어갈 경우 자동으로 최대 범위를 지정\n",
        "print (cities[::2], \" AND \", cities[::-1]) # 2칸 단위로, 역으로 슬라이싱"
      ],
      "execution_count": null,
      "outputs": [
        {
          "output_type": "stream",
          "name": "stdout",
          "text": [
            "['서울', '부산', '인천', '대구', '대전', '광주']  AND  ['울산', '수원']\n",
            "['서울', '부산', '인천', '대구', '대전', '광주', '울산', '수원']\n",
            "['서울', '부산', '인천', '대구', '대전', '광주', '울산', '수원']\n",
            "['서울', '인천', '대전', '울산']  AND  ['수원', '울산', '광주', '대전', '대구', '인천', '부산', '서울']\n"
          ]
        }
      ]
    },
    {
      "cell_type": "markdown",
      "metadata": {
        "id": "R_ZeZtqOiE-0"
      },
      "source": [
        "### 리스트의 연산"
      ]
    },
    {
      "cell_type": "code",
      "metadata": {
        "id": "QnpdbyH-k52e",
        "colab": {
          "base_uri": "https://localhost:8080/"
        },
        "outputId": "a534a6fb-b3bb-41ed-b17c-5a062e1367e1"
      },
      "source": [
        "color = ['red', 'blue', 'green']\n",
        "color2 = ['orange', 'black', 'white']\n",
        "print(color + color2) # 두 리스트 합치기\n",
        "len(color) # 리스트 길이"
      ],
      "execution_count": null,
      "outputs": [
        {
          "output_type": "stream",
          "name": "stdout",
          "text": [
            "['red', 'blue', 'green', 'orange', 'black', 'white']\n"
          ]
        },
        {
          "output_type": "execute_result",
          "data": {
            "text/plain": [
              "3"
            ]
          },
          "metadata": {},
          "execution_count": 32
        }
      ]
    },
    {
      "cell_type": "code",
      "metadata": {
        "colab": {
          "base_uri": "https://localhost:8080/"
        },
        "id": "hVWUmCACX8EH",
        "outputId": "51512227-ca7e-4471-fab6-54eb5a1034e6"
      },
      "source": [
        "color[0] = 'yellow' # 0번째 리스트의 값을 변경\n",
        "print (color * 2) # color 리스트 2회 반복\n",
        "'blue' in color2 # 문자열 ‘blue‘가 color2 존재 여부 반환\n"
      ],
      "execution_count": null,
      "outputs": [
        {
          "output_type": "stream",
          "name": "stdout",
          "text": [
            "['yellow', 'blue', 'green', 'yellow', 'blue', 'green']\n"
          ]
        },
        {
          "output_type": "execute_result",
          "data": {
            "text/plain": [
              "False"
            ]
          },
          "metadata": {},
          "execution_count": 33
        }
      ]
    },
    {
      "cell_type": "code",
      "metadata": {
        "id": "PEbK6N4HZGv3",
        "colab": {
          "base_uri": "https://localhost:8080/"
        },
        "outputId": "4cd555e1-c10b-47c7-e71f-50e622b16fb9"
      },
      "source": [
        "total_color = color + color2\n",
        "total_color"
      ],
      "execution_count": null,
      "outputs": [
        {
          "output_type": "execute_result",
          "data": {
            "text/plain": [
              "['yellow', 'blue', 'green', 'orange', 'black', 'white']"
            ]
          },
          "metadata": {},
          "execution_count": 35
        }
      ]
    },
    {
      "cell_type": "markdown",
      "metadata": {
        "id": "iOoqF28TftT0"
      },
      "source": [
        "### 추가와 삭제"
      ]
    },
    {
      "cell_type": "code",
      "metadata": {
        "id": "AkIROE1vk59-",
        "colab": {
          "base_uri": "https://localhost:8080/"
        },
        "outputId": "7e39548b-a49a-4ce9-f469-f9560398506c"
      },
      "source": [
        "print(color)\n",
        "color.append(\"white\") # 리스트에 “white” 추가\n",
        "print(color)\n",
        "color.extend([\"black\",\"purple\"]) # 리스트에 새로운 리스트 추가\n",
        "print(color)\n",
        "color.insert(0,\"orange\") # 0번째 주소에 “orange” 추가\n",
        "print (color)\n",
        "color.remove(\"white\") # 리스트에 “white” 삭제\n",
        "print(color)\n",
        "del color[0] # 0번째 주소 리스트 객체 삭제\n",
        "print (color)"
      ],
      "execution_count": null,
      "outputs": [
        {
          "output_type": "stream",
          "name": "stdout",
          "text": [
            "['yellow', 'blue', 'green']\n",
            "['yellow', 'blue', 'green', 'white']\n",
            "['yellow', 'blue', 'green', 'white', 'black', 'purple']\n",
            "['orange', 'yellow', 'blue', 'green', 'white', 'black', 'purple']\n",
            "['yellow', 'blue', 'green', 'black', 'purple']\n"
          ]
        }
      ]
    },
    {
      "cell_type": "code",
      "metadata": {
        "id": "UKOi_IO9k6Dm",
        "colab": {
          "base_uri": "https://localhost:8080/"
        },
        "outputId": "12a2b5f5-ff87-4ff6-ac5a-0a4e1b187bc8"
      },
      "source": [
        "a = [\"color\", 1, 0.2]\n",
        "color = ['yellow', 'blue', 'green', 'black', 'purple']\n",
        "a[0] = color # 리스트 안에 리스트도 입력 가능\n",
        "print (a)"
      ],
      "execution_count": null,
      "outputs": [
        {
          "output_type": "stream",
          "name": "stdout",
          "text": [
            "[['yellow', 'blue', 'green', 'black', 'purple'], 1, 0.2]\n"
          ]
        }
      ]
    },
    {
      "cell_type": "markdown",
      "metadata": {
        "id": "qLgWJDtTmjqG"
      },
      "source": [
        "### 메모리 저장 방식\n",
        "\n",
        "- call by value : 값을 복사\n",
        "- call by ref : 주소를 복사"
      ]
    },
    {
      "cell_type": "code",
      "metadata": {
        "id": "6oatam_Lk6IT",
        "colab": {
          "base_uri": "https://localhost:8080/"
        },
        "outputId": "19086516-83c1-4a4b-c00c-a4acb7e97919"
      },
      "source": [
        "# Step 1: 초기 상태 (서로 다른 리스트를 참조)\n",
        "a = [5, 4, 3, 2, 1]\n",
        "b = [1, 2, 3, 4, 5]\n",
        "\n",
        "# Step 2: b = a로 인해 동일 객체를 참조 (Call by Reference처럼 동작)\n",
        "b = a\n",
        "print(b)  # [5, 4, 3, 2, 1]\n",
        "\n",
        "# Step 3: a.sort()로 객체 수정 (a, b 모두 영향을 받음)\n",
        "a.sort()  # a와 b가 같은 객체를 참조하므로, b도 [1, 2, 3, 4, 5]로 변경\n",
        "print(b)  # [1, 2, 3, 4, 5]\n",
        "\n",
        "# Step 4: b가 새로운 리스트 객체를 참조 (Call by Value처럼 동작)\n",
        "b = [6, 7, 8, 9, 10]  # b가 새로운 객체를 참조\n",
        "print(a, b)  # a = [1, 2, 3, 4, 5], b = [6, 7, 8, 9, 10]"
      ],
      "execution_count": null,
      "outputs": [
        {
          "output_type": "stream",
          "name": "stdout",
          "text": [
            "[5, 4, 3, 2, 1]\n",
            "[1, 2, 3, 4, 5]\n",
            "[1, 2, 3, 4, 5] [6, 7, 8, 9, 10]\n"
          ]
        }
      ]
    },
    {
      "cell_type": "markdown",
      "metadata": {
        "id": "SoYeUaa5lSpR"
      },
      "source": [
        "### 패킹, 언패킹"
      ]
    },
    {
      "cell_type": "code",
      "metadata": {
        "id": "gcYpssxFk6Lm",
        "colab": {
          "base_uri": "https://localhost:8080/"
        },
        "outputId": "15bc9d81-bd76-457d-bc56-5bfb9e773e9b"
      },
      "source": [
        "t = [1, 2, 3] # 1,2,3을 변수 t에 패킹\n",
        "a , b , c = t # t에 있는 값 1, 2, 3 을 변수 a, b, c에 언패킹\n",
        "print(t, a, b, c) # [1, 2, 3] 1 2 3"
      ],
      "execution_count": null,
      "outputs": [
        {
          "output_type": "stream",
          "text": [
            "[1, 2, 3] 1 2 3\n"
          ],
          "name": "stdout"
        }
      ]
    },
    {
      "cell_type": "markdown",
      "metadata": {
        "id": "edPD3LWSmUp6"
      },
      "source": [
        "### 2차원 리스트"
      ]
    },
    {
      "cell_type": "code",
      "metadata": {
        "id": "d__hCXkik6Oo",
        "colab": {
          "base_uri": "https://localhost:8080/"
        },
        "outputId": "52061640-4c6d-4a2c-a56b-76f99e953f53"
      },
      "source": [
        "kor_score = [49,79,20,100,80]\n",
        "math_score = [43,59,85,30, 90]\n",
        "eng_score = [49,79,48,60,100]\n",
        "midterm_score = [kor_score, math_score, eng_score]\n",
        "print (midterm_score[2][3])"
      ],
      "execution_count": null,
      "outputs": [
        {
          "output_type": "stream",
          "name": "stdout",
          "text": [
            "60\n"
          ]
        }
      ]
    },
    {
      "cell_type": "markdown",
      "metadata": {
        "id": "JXB7_gAJlQ87"
      },
      "source": [
        "# 실전 문제"
      ]
    },
    {
      "cell_type": "markdown",
      "metadata": {
        "id": "CUgB1L9Km-Z1"
      },
      "source": [
        "#### 문제 1) 형이 집에서 학교를 향해 초속 0.87m로 걸어간 지 13분 후에 집에 두고 온 물건이 생각나 다시 집으로 분속 100m로 돌아갔다. 형이 집으로 되돌아오는 동안 걸린 시간(분)과 이동한 거리를 구하세요.\n",
        "\n",
        "조건\n",
        "1. 정답은 정수형으로 구하세요! ex) 3.3분(x) ->  3분 / 90.64m -> 90m\n",
        "2. 속도와 시간을 변수를 선언해서 저장하세요!\n",
        "\n",
        "* 이동거리 : 물체가 이동한 총 거리\n",
        "* 이동시간 : 물체가 이동하는데 걸린 시간\n",
        "* 속력 : 물체의 빠르기, 1초동안 이동거리(m/s)\n",
        "* 이동시간 = 이동거리 / 속력\n"
      ]
    },
    {
      "cell_type": "code",
      "metadata": {
        "colab": {
          "base_uri": "https://localhost:8080/"
        },
        "id": "y46ckkKCm_Gt",
        "outputId": "dfa2e337-7274-4f0c-9ff3-035e46a288de"
      },
      "source": [
        "# 1번의 풀이과정을 여기에 쓰세요!\n",
        "\n",
        "# =============\n",
        "# Code\n",
        "# ============="
      ],
      "execution_count": null,
      "outputs": [
        {
          "output_type": "execute_result",
          "data": {
            "text/plain": [
              "6.24"
            ]
          },
          "metadata": {
            "tags": []
          },
          "execution_count": 15
        }
      ]
    },
    {
      "cell_type": "markdown",
      "metadata": {
        "id": "TH9VWQfYm_Q4"
      },
      "source": [
        "#### 문제 2-1) 369 게임은 뒷부분이 3, 6, 9로 숫자가 끝날 때 말하지 않고 박수를 치는 게임입니다. 다음과 같은 리스트가 있을 때, 369로 숫자가 끝나게 될 경우 문자열 '짝'으로 대체하세요!\n",
        "\n",
        "조건\n",
        "1. 인덱싱을 사용하세요!\n",
        "\n",
        "예상 결과\n",
        "```\n",
        "# 초기화\n",
        "triple_game = [1,2,3,4,5,6,7,8,9,10]\n",
        "\n",
        "# ==========\n",
        "# 프로그램 실행\n",
        "# ==========\n",
        "\n",
        "# 결과 출력\n",
        "print(triple_game)\n",
        "\n",
        "-> [1,2,'짝',4,5,'짝',7,8,'짝',10]\n",
        "```"
      ]
    },
    {
      "cell_type": "code",
      "metadata": {
        "id": "uB0yjd3Im_Wg"
      },
      "source": [
        "# 2-1번의 풀이과정을 여기에 쓰세요!\n",
        "triple_game = [1,2,3,4,5,6,7,8,9,10]\n",
        "\n",
        "# =============\n",
        "# Code\n",
        "\n",
        "# =============\n",
        "\n",
        "print(triple_game)"
      ],
      "execution_count": null,
      "outputs": []
    },
    {
      "cell_type": "markdown",
      "metadata": {
        "id": "GJzxkNbkm_Zy"
      },
      "source": [
        "#### 문제 2-2) 위의 리스트에는 10까지 저장되어 있습니다. 리스트의 끝부분에 11~15의 수를 추가하여 369로 숫자가 끝나게 될 경우 문자열 '짝'으로 대체하세요!\n",
        "\n",
        "조건\n",
        "1. append 혹은 extend 함수를 사용하세요!\n",
        "\n",
        "예상 결과\n",
        "```\n",
        "triple_game = [1,2,'짝',4,5,'짝',7,8,'짝',10]\n",
        "\n",
        "# ==========\n",
        "# 프로그램 실행\n",
        "# ==========\n",
        "\n",
        "# 결과 출력\n",
        "print(triple_game)\n",
        "-> [1,2,'짝',4,5,'짝',7,8,'짝',10,11,12,'짝',14,15]\n",
        "```"
      ]
    },
    {
      "cell_type": "code",
      "metadata": {
        "id": "9vOMi1Wym_ce"
      },
      "source": [
        "# 2-2번의 풀이과정을 여기에 쓰세요!\n",
        "triple_game = [1,2,'짝',4,5,'짝',7,8,'짝',10]\n",
        "\n",
        "# =============\n",
        "# Code\n",
        "\n",
        "# =============\n",
        "\n",
        "print(triple_game)"
      ],
      "execution_count": null,
      "outputs": []
    },
    {
      "cell_type": "markdown",
      "metadata": {
        "id": "IjjYMbitm_fF"
      },
      "source": [
        "#### 문제 3) 문자열은 실수형으로, 실수형은 정수형으로, 정수형은 문자열로 바꾸어서 result에 저장하세요!\n",
        "\n",
        "조건\n",
        "1. float(), int(), str() 함수를 사용하세요!\n",
        "\n",
        "예상 결과\n",
        "```\n",
        "list_test = ['33', 333.33, 33, '333.33']\n",
        "\n",
        "# ==========\n",
        "# 프로그램 실행\n",
        "# ==========\n",
        "\n",
        "print(result)\n",
        "-> [33.0, 333, '33',333.33]\n",
        "```"
      ]
    },
    {
      "cell_type": "code",
      "metadata": {
        "id": "0sA-hBaum_iL"
      },
      "source": [
        "# 3번의 풀이과정을 여기에 쓰세요!\n",
        "list_test = ['33', 333.33, 33, '333.33']\n",
        "\n",
        "# =============\n",
        "# Code\n",
        "result =\n",
        "# =============\n",
        "\n",
        "print(result)"
      ],
      "execution_count": null,
      "outputs": []
    },
    {
      "cell_type": "markdown",
      "metadata": {
        "id": "6GEkDieQm_k7"
      },
      "source": [
        "#### 문제 4) 리스트에 있는 데이터 중 'l','o','v','e',' ', 'p','y','t','h','o','n'을 따로 result에 저장하세요!\n",
        "\n",
        "조건\n",
        "1. 슬라이싱을 사용하세요!\n",
        "\n",
        "예상 결과\n",
        "```\n",
        "list_ex = ['I', ' ', 'l', 'o', 'v', 'e', ' ', 'p', 'y', 't', 'h', 'o', 'n', ' ', 'v', 'e', 'r', 'y', ' ', 'v', 'e', 'r', 'y', ' ', 'm', 'u', 'c', 'h', '.']\n",
        "\n",
        "# ==========\n",
        "# 프로그램 실행\n",
        "# ==========\n",
        "\n",
        "print(result)\n",
        "-> ['l','o','v','e',' ', 'p','y','t','h','o','n']\n",
        "```"
      ]
    },
    {
      "cell_type": "code",
      "metadata": {
        "id": "eq8l7ndum_p6"
      },
      "source": [
        "# 4번의 풀이과정을 여기에 쓰세요!\n",
        "list_ex = ['I', ' ', 'l', 'o', 'v', 'e', ' ', 'p', 'y', 't', 'h', 'o', 'n', ' ', 'v', 'e', 'r', 'y', ' ', 'v', 'e', 'r', 'y', ' ', 'm', 'u', 'c', 'h', '.']\n",
        "\n",
        "# =============\n",
        "# Code\n",
        "result =\n",
        "# =============\n",
        "\n",
        "print(result)"
      ],
      "execution_count": null,
      "outputs": []
    }
  ]
}